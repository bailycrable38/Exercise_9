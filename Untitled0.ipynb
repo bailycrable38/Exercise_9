{
  "nbformat": 4,
  "nbformat_minor": 0,
  "metadata": {
    "colab": {
      "provenance": [],
      "authorship_tag": "ABX9TyMIdSTQ8VSlZoVqoutf5vF3",
      "include_colab_link": true
    },
    "kernelspec": {
      "name": "ir",
      "display_name": "R"
    },
    "language_info": {
      "name": "R"
    }
  },
  "cells": [
    {
      "cell_type": "markdown",
      "metadata": {
        "id": "view-in-github",
        "colab_type": "text"
      },
      "source": [
        "<a href=\"https://colab.research.google.com/github/bailycrable38/Exercise_9/blob/main/Untitled0.ipynb\" target=\"_parent\"><img src=\"https://colab.research.google.com/assets/colab-badge.svg\" alt=\"Open In Colab\"/></a>"
      ]
    },
    {
      "cell_type": "code",
      "execution_count": null,
      "metadata": {
        "id": "IkAmsJYpsBKI"
      },
      "outputs": [],
      "source": []
    },
    {
      "cell_type": "markdown",
      "source": [],
      "metadata": {
        "id": "scNdURLdsHBL"
      }
    },
    {
      "cell_type": "code",
      "source": [
        "#Installing packages may take as long as 10min\n",
        "packages<-c(\"leaflet\", \"htmlwidgets\")\n",
        "sapply(packages, install.packages, character.only=TRUE)\n",
        "sapply(packages, require, character.only=TRUE)"
      ],
      "metadata": {
        "colab": {
          "base_uri": "https://localhost:8080/",
          "height": 384
        },
        "id": "73QbzryxsHYX",
        "outputId": "7e9cebd5-4cd2-49bb-b5e2-2af1b5b97dee"
      },
      "execution_count": 3,
      "outputs": [
        {
          "output_type": "stream",
          "name": "stderr",
          "text": [
            "Installing package into ‘/usr/local/lib/R/site-library’\n",
            "(as ‘lib’ is unspecified)\n",
            "\n",
            "also installing the dependencies ‘lazyeval’, ‘Rcpp’, ‘terra’, ‘gridExtra’, ‘crosstalk’, ‘htmlwidgets’, ‘leaflet.providers’, ‘png’, ‘raster’, ‘sp’, ‘viridis’\n",
            "\n",
            "\n",
            "Installing package into ‘/usr/local/lib/R/site-library’\n",
            "(as ‘lib’ is unspecified)\n",
            "\n"
          ]
        },
        {
          "output_type": "display_data",
          "data": {
            "text/html": [
              "<dl>\n",
              "\t<dt>$leaflet</dt>\n",
              "\t\t<dd>NULL</dd>\n",
              "\t<dt>$htmlwidgets</dt>\n",
              "\t\t<dd>NULL</dd>\n",
              "</dl>\n"
            ],
            "text/markdown": "$leaflet\n:   NULL\n$htmlwidgets\n:   NULL\n\n\n",
            "text/latex": "\\begin{description}\n\\item[\\$leaflet] NULL\n\\item[\\$htmlwidgets] NULL\n\\end{description}\n",
            "text/plain": [
              "$leaflet\n",
              "NULL\n",
              "\n",
              "$htmlwidgets\n",
              "NULL\n"
            ]
          },
          "metadata": {}
        },
        {
          "output_type": "stream",
          "name": "stderr",
          "text": [
            "Loading required package: leaflet\n",
            "\n",
            "Loading required package: htmlwidgets\n",
            "\n"
          ]
        },
        {
          "output_type": "display_data",
          "data": {
            "text/html": [
              "<style>\n",
              ".dl-inline {width: auto; margin:0; padding: 0}\n",
              ".dl-inline>dt, .dl-inline>dd {float: none; width: auto; display: inline-block}\n",
              ".dl-inline>dt::after {content: \":\\0020\"; padding-right: .5ex}\n",
              ".dl-inline>dt:not(:first-of-type) {padding-left: .5ex}\n",
              "</style><dl class=dl-inline><dt>leaflet</dt><dd>TRUE</dd><dt>htmlwidgets</dt><dd>TRUE</dd></dl>\n"
            ],
            "text/markdown": "leaflet\n:   TRUEhtmlwidgets\n:   TRUE\n\n",
            "text/latex": "\\begin{description*}\n\\item[leaflet] TRUE\n\\item[htmlwidgets] TRUE\n\\end{description*}\n",
            "text/plain": [
              "    leaflet htmlwidgets \n",
              "       TRUE        TRUE "
            ]
          },
          "metadata": {}
        }
      ]
    },
    {
      "cell_type": "code",
      "source": [
        "#load pre-installed packages\n",
        "library('tidyverse')\n",
        "library('googledrive')"
      ],
      "metadata": {
        "colab": {
          "base_uri": "https://localhost:8080/"
        },
        "id": "U3chfTLqs1DK",
        "outputId": "c659cc7f-c0ab-40fc-ac4e-ef5cbd748c06"
      },
      "execution_count": 4,
      "outputs": [
        {
          "output_type": "stream",
          "name": "stderr",
          "text": [
            "── \u001b[1mAttaching core tidyverse packages\u001b[22m ──────────────────────── tidyverse 2.0.0 ──\n",
            "\u001b[32m✔\u001b[39m \u001b[34mdplyr    \u001b[39m 1.1.3     \u001b[32m✔\u001b[39m \u001b[34mreadr    \u001b[39m 2.1.4\n",
            "\u001b[32m✔\u001b[39m \u001b[34mforcats  \u001b[39m 1.0.0     \u001b[32m✔\u001b[39m \u001b[34mstringr  \u001b[39m 1.5.0\n",
            "\u001b[32m✔\u001b[39m \u001b[34mggplot2  \u001b[39m 3.4.4     \u001b[32m✔\u001b[39m \u001b[34mtibble   \u001b[39m 3.2.1\n",
            "\u001b[32m✔\u001b[39m \u001b[34mlubridate\u001b[39m 1.9.3     \u001b[32m✔\u001b[39m \u001b[34mtidyr    \u001b[39m 1.3.0\n",
            "\u001b[32m✔\u001b[39m \u001b[34mpurrr    \u001b[39m 1.0.2     \n",
            "── \u001b[1mConflicts\u001b[22m ────────────────────────────────────────── tidyverse_conflicts() ──\n",
            "\u001b[31m✖\u001b[39m \u001b[34mdplyr\u001b[39m::\u001b[32mfilter()\u001b[39m masks \u001b[34mstats\u001b[39m::filter()\n",
            "\u001b[31m✖\u001b[39m \u001b[34mdplyr\u001b[39m::\u001b[32mlag()\u001b[39m    masks \u001b[34mstats\u001b[39m::lag()\n",
            "\u001b[36mℹ\u001b[39m Use the conflicted package (\u001b[3m\u001b[34m<http://conflicted.r-lib.org/>\u001b[39m\u001b[23m) to force all conflicts to become errors\n"
          ]
        }
      ]
    },
    {
      "cell_type": "code",
      "source": [
        "#google sheet to csv\n",
        "drive_deauth()\n",
        "drive_download(as_id(\"1cJptXqRfaejcmGpmyi8g6FThOemFNvmFRiy3cMpocMI\"), overwrite = TRUE, type = \"csv\")\n",
        "demo <- as.data.frame(read.csv(\"Spooky .csv\")) %>% drop_na(c(\"Longitude\",\"Latitude\"))"
      ],
      "metadata": {
        "colab": {
          "base_uri": "https://localhost:8080/"
        },
        "id": "mRbuA7MbyNbW",
        "outputId": "1cf1571c-b9e7-4ca1-e32f-acf9054a0684"
      },
      "execution_count": 5,
      "outputs": [
        {
          "output_type": "stream",
          "name": "stderr",
          "text": [
            "File downloaded:\n",
            "\n",
            "• '\u001b[36mSpooky\u001b[39m\u001b[44m \u001b[49m' \u001b[90m<id: 1cJptXqRfaejcmGpmyi8g6FThOemFNvmFRiy3cMpocMI>\u001b[39m\n",
            "\n",
            "Saved locally as:\n",
            "\n",
            "• \u001b[34mSpooky .csv\u001b[39m\n",
            "\n"
          ]
        }
      ]
    },
    {
      "cell_type": "code",
      "source": [],
      "metadata": {
        "id": "9eiDHWypyUDC"
      },
      "execution_count": 25,
      "outputs": []
    },
    {
      "cell_type": "code",
      "source": [
        "#leaflet - needs to be downloaded and opened in a browser\n",
        "#leaflet - needs to be downloaded and opened in a browser\n",
        "html <- demo %>%\n",
        "      leaflet() %>%\n",
        "      addTiles(group = \"OSM\")%>%\n",
        "        addProviderTiles(providers$CartoDB.Positron, group = \"CartoDB\") %>%\n",
        "        addProviderTiles(providers$Esri.NatGeoWorldMap, group = \"NatGeo\") %>%\n",
        "        addProviderTiles(providers$Esri.WorldImagery, group = \"ESRI\") %>%\n",
        "      addCircleMarkers(popup = demo$How.spooky.is.this.house.,\n",
        "                       label = demo$Is.this.house.decorated.,\n",
        "                       color = \"grey\",\n",
        "                       fillColor = \"red\",\n",
        "                       fillOpacity = 0.7,\n",
        "                       labelOptions = labelOptions(noHide = T, direction = \"bottom\",\n",
        "                                                   offset=c(0,-20), textOnly = TRUE)) %>%\n",
        "      addLayersControl(\n",
        "        baseGroups = c(\"OSM\", \"CartoDB\", \"NatGeo\", \"ESRI\"),\n",
        "        options = layersControlOptions(collapsed = FALSE),\n",
        "        overlayGroups = \"Trees\") %>%\n",
        "      addMiniMap(zoomLevelOffset = -4) %>%\n",
        "      addScaleBar()\n",
        "saveWidget(html, file = \"biol_5660_demo.html\")"
      ],
      "metadata": {
        "colab": {
          "base_uri": "https://localhost:8080/",
          "height": 322
        },
        "id": "S93OEU6eymLY",
        "outputId": "be0493ce-2fe7-46f6-911c-b36d7cd5c04b"
      },
      "execution_count": 7,
      "outputs": [
        {
          "output_type": "error",
          "ename": "ERROR",
          "evalue": "ignored",
          "traceback": [
            "Error in addScaleBar(.): could not find function \"addScaleBar\"\nTraceback:\n",
            "1. demo %>% leaflet() %>% addTiles(group = \"OSM\") %>% addProviderTiles(providers$CartoDB.Positron, \n .     group = \"CartoDB\") %>% addProviderTiles(providers$Esri.NatGeoWorldMap, \n .     group = \"NatGeo\") %>% addProviderTiles(providers$Esri.WorldImagery, \n .     group = \"ESRI\") %>% addCircleMarkers(popup = demo$How.spooky.is.this.house., \n .     label = demo$Is.this.house.decorated., color = \"grey\", fillColor = \"red\", \n .     fillOpacity = 0.7, labelOptions = labelOptions(noHide = T, \n .         direction = \"bottom\", offset = c(0, -20), textOnly = TRUE)) %>% \n .     addLayersControl(baseGroups = c(\"OSM\", \"CartoDB\", \"NatGeo\", \n .         \"ESRI\"), options = layersControlOptions(collapsed = FALSE), \n .         overlayGroups = \"Trees\") %>% addMiniMap(zoomLevelOffset = -4) %>% \n .     addScaleBar()"
          ]
        }
      ]
    }
  ]
}